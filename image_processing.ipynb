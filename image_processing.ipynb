{
 "cells": [
  {
   "cell_type": "code",
   "execution_count": 2,
   "id": "077c717b",
   "metadata": {},
   "outputs": [
    {
     "name": "stdout",
     "output_type": "stream",
     "text": [
      "Requirement already satisfied: Pillow in c:\\users\\sherr\\anaconda3\\lib\\site-packages (8.2.0)\n",
      "Note: you may need to restart the kernel to use updated packages.\n"
     ]
    }
   ],
   "source": [
    "pip install Pillow"
   ]
  },
  {
   "cell_type": "code",
   "execution_count": 3,
   "id": "65f23d67",
   "metadata": {},
   "outputs": [],
   "source": [
    "from PIL import Image "
   ]
  },
  {
   "cell_type": "code",
   "execution_count": 14,
   "id": "6aef63c0",
   "metadata": {},
   "outputs": [
    {
     "name": "stdout",
     "output_type": "stream",
     "text": [
      "<PIL.JpegImagePlugin.JpegImageFile image mode=RGB size=1200x801 at 0x200655C1460>\n"
     ]
    }
   ],
   "source": [
    "img = Image.open('C:\\\\Users\\\\sherr\\\\OneDrive\\\\Desktop\\\\dive.jpg')\n",
    "print(img)"
   ]
  },
  {
   "cell_type": "code",
   "execution_count": 15,
   "id": "d61a9043",
   "metadata": {},
   "outputs": [
    {
     "name": "stdout",
     "output_type": "stream",
     "text": [
      "JPEG\n"
     ]
    }
   ],
   "source": [
    "print(img.format)"
   ]
  },
  {
   "cell_type": "code",
   "execution_count": 16,
   "id": "679c2f29",
   "metadata": {},
   "outputs": [
    {
     "name": "stdout",
     "output_type": "stream",
     "text": [
      "(1200, 801)\n"
     ]
    }
   ],
   "source": [
    "print(img.size)"
   ]
  },
  {
   "cell_type": "code",
   "execution_count": 17,
   "id": "f26299de",
   "metadata": {},
   "outputs": [
    {
     "name": "stdout",
     "output_type": "stream",
     "text": [
      "RGB\n"
     ]
    }
   ],
   "source": [
    "# Mode tells us the coluring is in RGB \n",
    "print(img.mode)"
   ]
  },
  {
   "cell_type": "code",
   "execution_count": 18,
   "id": "0b945f60",
   "metadata": {},
   "outputs": [
    {
     "name": "stdout",
     "output_type": "stream",
     "text": [
      "['_Image__transformer', '__array_interface__', '__class__', '__copy__', '__delattr__', '__dict__', '__dir__', '__doc__', '__enter__', '__eq__', '__exit__', '__format__', '__ge__', '__getattr__', '__getattribute__', '__getstate__', '__gt__', '__hash__', '__init__', '__init_subclass__', '__le__', '__lt__', '__module__', '__ne__', '__new__', '__reduce__', '__reduce_ex__', '__repr__', '__setattr__', '__setstate__', '__sizeof__', '__str__', '__subclasshook__', '__weakref__', '_category', '_close_exclusive_fp_after_loading', '_copy', '_crop', '_dump', '_ensure_mutable', '_exclusive_fp', '_exif', '_expand', '_get_safe_box', '_getexif', '_getmp', '_min_frame', '_new', '_open', '_repr_png_', '_seek_check', '_size', '_xmp', 'alpha_composite', 'app', 'applist', 'bits', 'close', 'convert', 'copy', 'crop', 'custom_mimetype', 'decoderconfig', 'decodermaxblock', 'draft', 'effect_spread', 'entropy', 'filename', 'filter', 'format', 'format_description', 'fp', 'frombytes', 'get_format_mimetype', 'getbands', 'getbbox', 'getchannel', 'getcolors', 'getdata', 'getexif', 'getextrema', 'getim', 'getpalette', 'getpixel', 'getprojection', 'getxmp', 'height', 'histogram', 'huffman_ac', 'huffman_dc', 'icclist', 'im', 'info', 'layer', 'layers', 'load', 'load_djpeg', 'load_end', 'load_prepare', 'load_read', 'mode', 'palette', 'paste', 'point', 'putalpha', 'putdata', 'putpalette', 'putpixel', 'pyaccess', 'quantization', 'quantize', 'readonly', 'reduce', 'remap_palette', 'resize', 'rotate', 'save', 'seek', 'show', 'size', 'split', 'tell', 'thumbnail', 'tile', 'tobitmap', 'tobytes', 'toqimage', 'toqpixmap', 'transform', 'transpose', 'verify', 'width']\n"
     ]
    }
   ],
   "source": [
    "# ing has given us \n",
    "\n",
    "print(dir(img))"
   ]
  },
  {
   "cell_type": "code",
   "execution_count": 19,
   "id": "9572c87f",
   "metadata": {},
   "outputs": [],
   "source": [
    "# Lets add some filter (maybe blurring the image)\n",
    "from PIL import Image, ImageFilter"
   ]
  },
  {
   "cell_type": "code",
   "execution_count": 22,
   "id": "9fc20d92",
   "metadata": {},
   "outputs": [],
   "source": [
    "# Lets blurr the image \n",
    "filtered_img = img.filter(ImageFilter.BLUR)\n",
    "filtered_img.save('C:\\\\Users\\\\sherr\\\\OneDrive\\\\Desktop\\\\blur.png')"
   ]
  },
  {
   "cell_type": "code",
   "execution_count": 23,
   "id": "7f671c92",
   "metadata": {},
   "outputs": [],
   "source": [
    "# Lets smooth the image \n",
    "filtered_img = img.filter(ImageFilter.SMOOTH)\n",
    "filtered_img.save('C:\\\\Users\\\\sherr\\\\OneDrive\\\\Desktop\\\\smooth.png')"
   ]
  },
  {
   "cell_type": "code",
   "execution_count": 24,
   "id": "7108d539",
   "metadata": {},
   "outputs": [],
   "source": [
    "# Lets sharpen the image \n",
    "filtered_img = img.filter(ImageFilter.SHARPEN)\n",
    "filtered_img.save('C:\\\\Users\\\\sherr\\\\OneDrive\\\\Desktop\\\\sharpen.png')"
   ]
  },
  {
   "cell_type": "code",
   "execution_count": 25,
   "id": "078c44c9",
   "metadata": {},
   "outputs": [],
   "source": [
    "# We can also convert the image into different format \n",
    "filtered_img = img.convert('L')\n",
    "filtered_img.save('C:\\\\Users\\\\sherr\\\\OneDrive\\\\Desktop\\\\grey.png')"
   ]
  },
  {
   "cell_type": "code",
   "execution_count": 40,
   "id": "849cedeb",
   "metadata": {},
   "outputs": [],
   "source": [
    "#Lets rotate the grey img\n",
    "filtered_img = img.convert('L')\n",
    "crooked = filtered_img.rotate(180)\n",
    "crooked.save('C:\\\\Users\\\\sherr\\\\OneDrive\\\\Desktop\\\\crooked.png')"
   ]
  },
  {
   "cell_type": "code",
   "execution_count": 43,
   "id": "c1dcb3bb",
   "metadata": {},
   "outputs": [],
   "source": [
    "crooked.show()"
   ]
  },
  {
   "cell_type": "code",
   "execution_count": 48,
   "id": "4aa99c7a",
   "metadata": {},
   "outputs": [],
   "source": [
    "#Let resize the image \n",
    "#Watch out, the resize accept a tuple so we must add extra brackets around the numbers ((300,300))\n",
    "resize = filtered_img.resize((300,300))\n",
    "resize.save('C:\\\\Users\\\\sherr\\\\OneDrive\\\\Desktop\\\\resize.png')"
   ]
  },
  {
   "cell_type": "code",
   "execution_count": 49,
   "id": "8a4f7a0d",
   "metadata": {},
   "outputs": [],
   "source": [
    "# Lets crop our image \n",
    "# first choose the pixels we want to crop ar\n",
    "box = (100,100,400,400)\n",
    "region = img.crop(box)\n",
    "region.save('C:\\\\Users\\\\sherr\\\\OneDrive\\\\Desktop\\\\cropped.png')"
   ]
  },
  {
   "cell_type": "code",
   "execution_count": null,
   "id": "b1203b76",
   "metadata": {},
   "outputs": [],
   "source": []
  }
 ],
 "metadata": {
  "kernelspec": {
   "display_name": "Python 3",
   "language": "python",
   "name": "python3"
  },
  "language_info": {
   "codemirror_mode": {
    "name": "ipython",
    "version": 3
   },
   "file_extension": ".py",
   "mimetype": "text/x-python",
   "name": "python",
   "nbconvert_exporter": "python",
   "pygments_lexer": "ipython3",
   "version": "3.8.8"
  }
 },
 "nbformat": 4,
 "nbformat_minor": 5
}
