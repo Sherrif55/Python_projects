{
 "cells": [
  {
   "cell_type": "code",
   "execution_count": 6,
   "id": "84940f8c",
   "metadata": {},
   "outputs": [
    {
     "name": "stdout",
     "output_type": "stream",
     "text": [
      "All done boss!\n"
     ]
    }
   ],
   "source": [
    "# to send an email we need SMTP server \n",
    "# SMTP is a protocol , it is a standard for machines to communicate with each others \n",
    "\n",
    "import smtplib \n",
    "from email.message import EmailMessage \n",
    "\n",
    "email = EmailMessage()\n",
    "\n",
    "email['from'] = 'Me'\n",
    "email['to']   = 'target_email@gmail.com'\n",
    "email['subject'] = ('you won the lottery')\n",
    "\n",
    "email.set_content(' I am a python master broooo')\n",
    "\n",
    "\n",
    "# To send the email we now need to login smtplib server \n",
    "# by usuing port 587 is just a standard way for SMTP server to run\n",
    "\n",
    "with smtplib.SMTP(host = 'smtp.gmail.com', port = 587) as smtp:\n",
    "    smtp.ehlo()                           # this is part is a smtp protocol \n",
    "    smtp.starttls()                       #tls is an increption mechanism that allows us to connect securly to the server\n",
    "    smtp.login('my_account@gmail.com','my_password')\n",
    "    smtp.send_message(email)\n",
    "    print('All done boss!')"
   ]
  },
  {
   "cell_type": "code",
   "execution_count": null,
   "id": "7cfb7d2b",
   "metadata": {},
   "outputs": [],
   "source": []
  }
 ],
 "metadata": {
  "kernelspec": {
   "display_name": "Python 3",
   "language": "python",
   "name": "python3"
  },
  "language_info": {
   "codemirror_mode": {
    "name": "ipython",
    "version": 3
   },
   "file_extension": ".py",
   "mimetype": "text/x-python",
   "name": "python",
   "nbconvert_exporter": "python",
   "pygments_lexer": "ipython3",
   "version": "3.8.8"
  }
 },
 "nbformat": 4,
 "nbformat_minor": 5
}
